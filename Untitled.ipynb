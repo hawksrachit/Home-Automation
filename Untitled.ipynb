{
 "cells": [
  {
   "cell_type": "code",
   "execution_count": 1,
   "metadata": {},
   "outputs": [],
   "source": [
    "import aiml\n",
    "import sys\n",
    "import os\n",
    "from nltk.stem import WordNetLemmatizer\n",
    "import nltk"
   ]
  },
  {
   "cell_type": "code",
   "execution_count": 2,
   "metadata": {},
   "outputs": [],
   "source": [
    "os.chdir('/home/yash/Desktop/bot')"
   ]
  },
  {
   "cell_type": "code",
   "execution_count": 3,
   "metadata": {},
   "outputs": [
    {
     "name": "stdout",
     "output_type": "stream",
     "text": [
      "Loading startup.xml...done (0.00 seconds)\n",
      "Loading biography.aiml...done (0.04 seconds)\n",
      "Loading reduction2.safe.aiml...done (0.34 seconds)\n",
      "Loading loebner10.aiml...done (0.00 seconds)\n",
      "Loading reductions-update.aiml...done (0.00 seconds)\n",
      "Loading history.aiml...done (0.00 seconds)\n",
      "Loading mp4.aiml...done (0.39 seconds)\n",
      "Loading update_mccormick.aiml...done (0.01 seconds)\n",
      "Loading food.aiml...done (0.00 seconds)\n",
      "Loading money.aiml...done (0.00 seconds)\n",
      "Loading primitive-math.aiml...done (0.00 seconds)\n",
      "Loading alice.aiml...done (0.02 seconds)\n",
      "Loading personality.aiml...done (0.01 seconds)\n",
      "Loading movies.aiml...done (0.00 seconds)\n",
      "Loading pyschology.aiml...done (0.05 seconds)\n",
      "Loading emotion.aiml...done (0.01 seconds)\n",
      "Loading psychology.aiml...done (0.05 seconds)\n",
      "Loading stack.aiml...done (0.00 seconds)\n",
      "Loading mp0.aiml..."
     ]
    },
    {
     "name": "stderr",
     "output_type": "stream",
     "text": [
      "PARSE ERROR: Unexpected </category> tag (line 104, column 0)\n",
      "PARSE ERROR: Unexpected </category> tag (line 144, column 0)\n",
      "PARSE ERROR: Unexpected <category> tag (line 18, column 0)\n",
      "PARSE ERROR: Unexpected </learn> tag (line 22, column 0)\n",
      "PARSE ERROR: Unexpected </template> tag (line 35, column 0)\n",
      "PARSE ERROR: Unexpected </category> tag (line 36, column 0)\n"
     ]
    },
    {
     "name": "stdout",
     "output_type": "stream",
     "text": [
      "done (0.46 seconds)\n",
      "Loading reduction4.safe.aiml...done (0.40 seconds)\n",
      "Loading mp5.aiml...done (0.37 seconds)\n",
      "Loading badanswer.aiml...done (0.01 seconds)\n",
      "Loading inquiry.aiml...done (0.01 seconds)\n",
      "Loading reduction.names.aiml..."
     ]
    },
    {
     "name": "stderr",
     "output_type": "stream",
     "text": [
      "PARSE ERROR: Unexpected <category> tag (line 100, column 1)\n",
      "PARSE ERROR: Unexpected </learn> tag (line 108, column 0)\n",
      "PARSE ERROR: Unexpected </li> tag (line 110, column 0)\n",
      "PARSE ERROR: Unexpected </condition> tag (line 128, column 0)\n",
      "PARSE ERROR: Unexpected </template> tag (line 129, column 0)\n",
      "PARSE ERROR: Unexpected </category> tag (line 130, column 0)\n",
      "PARSE ERROR: Unexpected <category> tag (line 158, column 1)\n",
      "PARSE ERROR: Unexpected </learn> tag (line 166, column 0)\n",
      "PARSE ERROR: Unexpected </li> tag (line 168, column 0)\n",
      "PARSE ERROR: Unexpected </condition> tag (line 173, column 0)\n",
      "PARSE ERROR: Unexpected </template> tag (line 174, column 0)\n",
      "PARSE ERROR: Unexpected </category> tag (line 175, column 0)\n"
     ]
    },
    {
     "name": "stdout",
     "output_type": "stream",
     "text": [
      "done (0.47 seconds)\n",
      "Loading sports.aiml...done (0.00 seconds)\n",
      "Loading reduction0.safe.aiml...done (0.57 seconds)\n",
      "Loading iu.aiml...done (0.00 seconds)\n",
      "Loading geography.aiml...done (0.20 seconds)\n",
      "Loading that.aiml...done (0.12 seconds)\n",
      "Loading gossip.aiml...done (0.00 seconds)\n",
      "Loading computers.aiml...done (0.01 seconds)\n",
      "Loading astrology.aiml...done (0.00 seconds)\n",
      "Loading mp6.aiml...done (0.20 seconds)\n",
      "Loading ai.aiml...done (0.03 seconds)\n",
      "Loading knowledge.aiml...done (0.15 seconds)\n",
      "Loading client.aiml..."
     ]
    },
    {
     "name": "stderr",
     "output_type": "stream",
     "text": [
      "PARSE ERROR: Unexpected <category> tag (line 40, column 0)\n",
      "PARSE ERROR: Unexpected </category> tag (line 43, column 0)\n",
      "PARSE ERROR: <random> elements can only contain <li> subelements (line 443, column 495)\n"
     ]
    },
    {
     "name": "stdout",
     "output_type": "stream",
     "text": [
      "done (0.13 seconds)\n",
      "Loading religion.aiml...done (0.04 seconds)\n",
      "Loading music.aiml...done (0.00 seconds)\n",
      "Loading update1.aiml...done (0.13 seconds)\n",
      "Loading interjection.aiml...done (0.01 seconds)\n",
      "Loading date.aiml...done (0.01 seconds)\n",
      "Loading sex.aiml...done (0.02 seconds)\n",
      "Loading humor.aiml..."
     ]
    },
    {
     "name": "stderr",
     "output_type": "stream",
     "text": [
      "PARSE ERROR: <random> elements can only contain <li> subelements (line 1733, column 19)\n",
      "PARSE ERROR: <random> elements can only contain <li> subelements (line 3374, column 125)\n",
      "PARSE ERROR: Unexpected text inside <random> element (line 3383, column 0)\n"
     ]
    },
    {
     "name": "stdout",
     "output_type": "stream",
     "text": [
      "done (0.01 seconds)\n",
      "Loading science.aiml...done (0.00 seconds)\n",
      "Loading pickup.aiml...done (0.01 seconds)\n",
      "Loading primeminister.aiml...done (0.00 seconds)\n",
      "Loading wallace.aiml...done (0.06 seconds)\n",
      "Loading atomic.aiml...done (0.35 seconds)\n",
      "Loading phone.aiml...done (0.00 seconds)\n",
      "Loading drugs.aiml...done (0.00 seconds)\n",
      "Loading bot_profile.aiml...done (0.01 seconds)\n",
      "Loading mp3.aiml...done (0.37 seconds)\n",
      "Loading reduction3.safe.aiml...done (0.30 seconds)\n",
      "Loading client_profile.aiml...done (0.03 seconds)\n",
      "Loading literature.aiml...done (0.00 seconds)\n",
      "Loading reduction1.safe.aiml...done (0.47 seconds)\n",
      "Loading xfind.aiml...done (0.00 seconds)\n",
      "Loading default.aiml..."
     ]
    },
    {
     "name": "stderr",
     "output_type": "stream",
     "text": [
      "PARSE ERROR: Unexpected text inside <random> element (line 4311, column 262)\n",
      "PARSE ERROR: Unexpected text inside <random> element (line 4848, column 172)\n",
      "PARSE ERROR: Unexpected text inside <random> element (line 8844, column 351)\n"
     ]
    },
    {
     "name": "stdout",
     "output_type": "stream",
     "text": [
      "done (0.55 seconds)\n",
      "Loading politics.aiml...done (0.00 seconds)\n",
      "Loading numbers.aiml...done (0.02 seconds)\n",
      "Loading continuation.aiml...done (0.00 seconds)\n",
      "Loading stories.aiml...done (0.03 seconds)\n",
      "Loading mp2.aiml...done (0.40 seconds)\n",
      "Loading salutations.aiml...done (0.01 seconds)\n",
      "Loading bot.aiml...done (0.25 seconds)\n",
      "Loading mp1.aiml...done (0.40 seconds)\n",
      "Loading imponderables.aiml...done (0.00 seconds)\n"
     ]
    },
    {
     "data": {
      "text/plain": [
       "''"
      ]
     },
     "execution_count": 3,
     "metadata": {},
     "output_type": "execute_result"
    }
   ],
   "source": [
    "mybot = aiml.Kernel()\n",
    "#Learn startup.xml\n",
    "mybot.learn('startup.xml')\n",
    "#Calling load aiml b for loading all AIML files\n",
    "mybot.respond('load aiml b')"
   ]
  },
  {
   "cell_type": "code",
   "execution_count": 4,
   "metadata": {},
   "outputs": [],
   "source": [
    "stopwords = set(w.rstrip() for w in open('stopwords.txt'))"
   ]
  },
  {
   "cell_type": "code",
   "execution_count": 5,
   "metadata": {},
   "outputs": [],
   "source": [
    "def my_tokenizer(s):\n",
    "    s=s.lower()\n",
    "    wordnet_lemmatizer = WordNetLemmatizer()\n",
    "    tokens = nltk.tokenize.word_tokenize(s)\n",
    "    tokens=[t for t in tokens if len(t) >1]\n",
    "    tokens=[wordnet_lemmatizer.lemmatize(t) for t in tokens]\n",
    "    #tokens=[t for t in tokens if t not in stopwords]\n",
    "    return tokens"
   ]
  },
  {
   "cell_type": "code",
   "execution_count": 6,
   "metadata": {},
   "outputs": [],
   "source": [
    "text = 'my name is yash'"
   ]
  },
  {
   "cell_type": "code",
   "execution_count": 7,
   "metadata": {},
   "outputs": [],
   "source": [
    "list = my_tokenizer(text)"
   ]
  },
  {
   "cell_type": "code",
   "execution_count": 8,
   "metadata": {},
   "outputs": [
    {
     "data": {
      "text/plain": [
       "['my', 'name', 'is', 'yash']"
      ]
     },
     "execution_count": 8,
     "metadata": {},
     "output_type": "execute_result"
    }
   ],
   "source": [
    "list "
   ]
  },
  {
   "cell_type": "code",
   "execution_count": 9,
   "metadata": {},
   "outputs": [],
   "source": [
    "prediction_request_keyword = ['predict','future','power','prediction']\n",
    "past_usage_request = ['past','history','power']\n",
    "turn_on = ['start', 'on']\n",
    "turn_off = ['off','shutdown']\n",
    "appliances = ['lightBulb','light','bulb','fan','computer','exhaust']\n",
    "option = ['on','off','pred','past']"
   ]
  },
  {
   "cell_type": "code",
   "execution_count": 10,
   "metadata": {},
   "outputs": [],
   "source": [
    "def checker(user_in):\n",
    "    \n",
    "    fut = 0\n",
    "    past = 0\n",
    "    on = 0\n",
    "    off = 0\n",
    "    list = my_tokenizer(user_in)\n",
    "    \n",
    "    for word in list:\n",
    "        if word in prediction_request_keyword:\n",
    "             fut = fut + 1\n",
    "    \n",
    "    for word in list:\n",
    "        if word in past_usage_request:\n",
    "             past = past + 1\n",
    "                \n",
    "    for word in list:\n",
    "        if word in turn_on:\n",
    "             on = on + 1\n",
    "                \n",
    "    for word in list:\n",
    "        if word in turn_off:\n",
    "             off = off + 1\n",
    "    \n",
    "    if (fut == 0 and past ==0 and on == 0 and off ==0) :\n",
    "        return mybot.respond(user_in)\n",
    "    elif (fut > past and fut > on and fut > off):\n",
    "        return option[2]\n",
    "    elif (past > fut and past > on and past > off) :\n",
    "        return option[3]\n",
    "    elif (on > past and on > fut and on > off):\n",
    "        return option[0],getting_appliance(list)\n",
    "    else: \n",
    "        return option[1],getting_appliance(list)"
   ]
  },
  {
   "cell_type": "code",
   "execution_count": null,
   "metadata": {},
   "outputs": [],
   "source": []
  },
  {
   "cell_type": "code",
   "execution_count": 11,
   "metadata": {},
   "outputs": [],
   "source": [
    "def getting_appliance(list):\n",
    "    for word in list:\n",
    "        if word in appliances:\n",
    "             return word"
   ]
  },
  {
   "cell_type": "code",
   "execution_count": 12,
   "metadata": {},
   "outputs": [],
   "source": [
    "set1 = 'turn on the light'\n",
    "test = my_tokenizer(set1)"
   ]
  },
  {
   "cell_type": "code",
   "execution_count": 13,
   "metadata": {},
   "outputs": [
    {
     "data": {
      "text/plain": [
       "['turn', 'on', 'the', 'light']"
      ]
     },
     "execution_count": 13,
     "metadata": {},
     "output_type": "execute_result"
    }
   ],
   "source": [
    "test"
   ]
  },
  {
   "cell_type": "code",
   "execution_count": null,
   "metadata": {},
   "outputs": [],
   "source": []
  },
  {
   "cell_type": "code",
   "execution_count": null,
   "metadata": {},
   "outputs": [
    {
     "data": {
      "text/plain": [
       "'light'"
      ]
     },
     "execution_count": 14,
     "metadata": {},
     "output_type": "execute_result"
    }
   ],
   "source": [
    "getting_appliance(test)"
   ]
  },
  {
   "cell_type": "code",
   "execution_count": null,
   "metadata": {},
   "outputs": [
    {
     "name": "stdout",
     "output_type": "stream",
     "text": [
      "turn the light off\n",
      "('off', 'light')\n",
      "hey\n",
      "Far out.\n",
      "how are you?\n",
      "I am fine, thank you.\n",
      "hey\n",
      "Come on.\n",
      "what\n",
      "Didn't you understand it?\n",
      "no\n",
      "Which part are you confused about?\n",
      "all\n",
      "No exceptions?\n",
      "naah\n",
      "Do you have any kids?\n",
      "no\n",
      "Are you kidding?\n",
      "no\n",
      "You're serious?\n",
      "no\n",
      "I don't judge people.\n",
      "yes\n",
      "Take it easy.\n",
      "turn the fan on\n",
      "('on', 'fan')\n"
     ]
    }
   ],
   "source": [
    "while True: \n",
    "    user_in = input()\n",
    "    #bot_response = mybot.respond(user_in)\n",
    "    print(checker(user_in))"
   ]
  },
  {
   "cell_type": "code",
   "execution_count": null,
   "metadata": {},
   "outputs": [],
   "source": [
    "k = checker('turn the light off')"
   ]
  },
  {
   "cell_type": "code",
   "execution_count": null,
   "metadata": {},
   "outputs": [],
   "source": [
    "k[1]"
   ]
  },
  {
   "cell_type": "code",
   "execution_count": null,
   "metadata": {},
   "outputs": [],
   "source": []
  },
  {
   "cell_type": "code",
   "execution_count": null,
   "metadata": {},
   "outputs": [],
   "source": []
  },
  {
   "cell_type": "code",
   "execution_count": null,
   "metadata": {},
   "outputs": [],
   "source": []
  }
 ],
 "metadata": {
  "kernelspec": {
   "display_name": "Python 3",
   "language": "python",
   "name": "python3"
  },
  "language_info": {
   "codemirror_mode": {
    "name": "ipython",
    "version": 3
   },
   "file_extension": ".py",
   "mimetype": "text/x-python",
   "name": "python",
   "nbconvert_exporter": "python",
   "pygments_lexer": "ipython3",
   "version": "3.6.4"
  }
 },
 "nbformat": 4,
 "nbformat_minor": 2
}
